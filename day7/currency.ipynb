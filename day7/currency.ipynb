{
 "cells": [
  {
   "cell_type": "code",
   "execution_count": 1,
   "metadata": {},
   "outputs": [
    {
     "name": "stdout",
     "output_type": "stream",
     "text": [
      "Defaulting to user installation because normal site-packages is not writeableNote: you may need to restart the kernel to use updated packages.\n"
     ]
    },
    {
     "name": "stderr",
     "output_type": "stream",
     "text": [
      "\n",
      "[notice] A new release of pip is available: 24.3.1 -> 25.0\n",
      "[notice] To update, run: C:\\Users\\B8-07\\AppData\\Local\\Microsoft\\WindowsApps\\PythonSoftwareFoundation.Python.3.13_qbz5n2kfra8p0\\python.exe -m pip install --upgrade pip\n"
     ]
    },
    {
     "name": "stdout",
     "output_type": "stream",
     "text": [
      "\n",
      "Collecting html5lib\n",
      "  Downloading html5lib-1.1-py2.py3-none-any.whl.metadata (16 kB)\n",
      "Requirement already satisfied: six>=1.9 in c:\\users\\b8-07\\appdata\\local\\packages\\pythonsoftwarefoundation.python.3.13_qbz5n2kfra8p0\\localcache\\local-packages\\python313\\site-packages (from html5lib) (1.17.0)\n",
      "Collecting webencodings (from html5lib)\n",
      "  Downloading webencodings-0.5.1-py2.py3-none-any.whl.metadata (2.1 kB)\n",
      "Downloading html5lib-1.1-py2.py3-none-any.whl (112 kB)\n",
      "Downloading webencodings-0.5.1-py2.py3-none-any.whl (11 kB)\n",
      "Installing collected packages: webencodings, html5lib\n",
      "Successfully installed html5lib-1.1 webencodings-0.5.1\n"
     ]
    }
   ],
   "source": [
    "%pip install html5lib"
   ]
  },
  {
   "cell_type": "code",
   "execution_count": 5,
   "metadata": {},
   "outputs": [
    {
     "name": "stderr",
     "output_type": "stream",
     "text": [
      "C:\\Users\\B8-07\\AppData\\Local\\Packages\\PythonSoftwareFoundation.Python.3.13_qbz5n2kfra8p0\\LocalCache\\local-packages\\Python313\\site-packages\\bs4\\__init__.py:228: UserWarning: You provided Unicode markup but also provided a value for from_encoding. Your from_encoding will be ignored.\n",
      "  warnings.warn(\"You provided Unicode markup but also provided a value for from_encoding. Your from_encoding will be ignored.\")\n"
     ]
    }
   ],
   "source": [
    "import pandas as pd\n",
    "\n",
    "url = 'https://finance.naver.com/marketindex/exchangeList.naver'\n",
    "\n",
    "dfs = pd.read_html(url, encoding='cp949', header=1)"
   ]
  },
  {
   "cell_type": "code",
   "execution_count": 6,
   "metadata": {},
   "outputs": [
    {
     "data": {
      "text/plain": [
       "[              통화명    매매기준율     사실 때     파실 때    보내실 때    받으실 때  미화환산율\n",
       " 0          미국 USD  1454.90  1480.36  1429.44  1469.10  1440.70  1.000\n",
       " 1        유럽연합 EUR  1511.20  1541.27  1481.13  1526.31  1496.09  1.039\n",
       " 2   일본 JPY (100엔)   943.36   959.86   926.86   952.60   934.12  0.648\n",
       " 3          중국 CNY   199.45   209.42   189.48   201.44   197.46  0.137\n",
       " 4          홍콩 HKD   186.73   190.40   183.06   188.59   184.87  0.128\n",
       " 5          대만 TWD    44.20    49.99    39.78      NaN      NaN  0.030\n",
       " 6          영국 GBP  1807.13  1842.73  1771.53  1825.20  1789.06  1.242\n",
       " 7          오만 OMR  3778.96  4043.48  3514.44      NaN      NaN  2.597\n",
       " 8         캐나다 CAD  1004.59  1024.38   984.80  1014.63   994.55  0.691\n",
       " 9         스위스 CHF  1599.05  1630.55  1567.55  1615.04  1583.06  1.099\n",
       " 10        스웨덴 SEK   131.63   135.97   124.13   132.94   130.32  0.091\n",
       " 11         호주 AUD   904.95   922.77   887.13   913.99   895.91  0.622\n",
       " 12       뉴질랜드 NZD   820.71   836.87   804.55   828.91   812.51  0.564\n",
       " 13         체코 CZK    60.15    65.26    54.74    60.81    59.49  0.041\n",
       " 14         칠레 CLP     1.48     1.62     1.34      NaN      NaN  0.001\n",
       " 15       튀르키예 TRY    40.57      NaN      NaN    41.01    40.13  0.028\n",
       " 16         몽골 MNT     0.42      NaN      NaN      NaN      NaN  0.000\n",
       " 17       이스라엘 ILS   406.01   446.61   373.53      NaN      NaN  0.279\n",
       " 18        덴마크 DKK   202.51   209.19   190.97   204.53   200.49  0.139\n",
       " 19       노르웨이 NOK   128.51   132.75   121.19   129.79   127.23  0.088\n",
       " 20    사우디아라비아 SAR   387.86   412.29   361.10   391.73   383.99  0.267\n",
       " 21       쿠웨이트 KWD  4715.89  5022.42  4338.62  4763.04  4668.74  3.241\n",
       " 22        바레인 BHD  3859.25  4106.24  3550.51  3897.84  3820.66  2.653\n",
       " 23     아랍에미리트 AED   396.12   417.90   368.79   400.08   392.16  0.272\n",
       " 24        요르단 JOD  2050.60  2233.10  1886.56      NaN      NaN  1.409\n",
       " 25        이집트 EGP    28.96      NaN      NaN      NaN      NaN  0.020\n",
       " 26         태국 THB    43.24    45.40    40.65    43.67    42.81  0.030\n",
       " 27       싱가포르 SGD  1074.12  1095.49  1052.75  1084.86  1063.38  0.738\n",
       " 28      말레이시아 MYR   329.35   353.72   304.98      NaN   326.06  0.226\n",
       " 29  인도네시아 IDR 100     8.94     9.83     8.05     9.02     8.86  0.006\n",
       " 30        카타르 QAR   399.06      NaN      NaN      NaN      NaN  0.274\n",
       " 31      카자흐스탄 KZT     2.80      NaN      NaN      NaN      NaN  0.002\n",
       " 32       브루나이 BND  1074.12  1117.08  1009.68      NaN      NaN  0.738\n",
       " 33         인도 INR    16.79      NaN      NaN    16.98    16.60  0.012\n",
       " 34       파키스탄 PKR     5.22      NaN      NaN      NaN      NaN  0.004\n",
       " 35      방글라데시 BDT    11.93      NaN      NaN      NaN      NaN  0.008\n",
       " 36        필리핀 PHP    24.93    27.42    22.89    25.17    24.69  0.017\n",
       " 37        멕시코 MXN    70.35    77.73    62.97    71.05    69.65  0.048\n",
       " 38        브라질 BRL   247.63   272.88   222.87      NaN   244.66  0.170\n",
       " 39    베트남 VND 100     5.87     6.56     5.18     5.92     5.82  0.004\n",
       " 40  남아프리카 공화국 ZAR    78.42    84.69    72.15    79.36    77.48  0.054\n",
       " 41        러시아 RUB    14.62    16.00    12.07    15.13    14.11  0.010\n",
       " 42        헝가리 HUF     3.70     4.04     3.41     3.74     3.66  0.003\n",
       " 43        폴란드 PLN   359.30   388.04   330.56   363.25   355.35  0.247\n",
       " 44       스리랑카 LKR     4.89      NaN      NaN      NaN      NaN  0.003\n",
       " 45        알제리 DZD    10.77      NaN      NaN      NaN      NaN  0.007\n",
       " 46         케냐 KES    11.27      NaN      NaN      NaN      NaN  0.008\n",
       " 47       콜롬비아 COP     0.35      NaN      NaN      NaN      NaN  0.000\n",
       " 48       탄자니아 TZS     0.57      NaN      NaN      NaN      NaN  0.000\n",
       " 49         네팔 NPR    10.50      NaN      NaN      NaN      NaN  0.007\n",
       " 50       루마니아 RON   303.68      NaN      NaN   307.02   300.34  0.209\n",
       " 51        리비아 LYD   296.33      NaN      NaN   299.29   293.37  0.204\n",
       " 52        마카오 MOP   181.16      NaN      NaN      NaN      NaN  0.125\n",
       " 53        미얀마 MMK     0.69      NaN      NaN      NaN      NaN  0.001\n",
       " 54      에티오피아 ETB    11.53      NaN      NaN      NaN      NaN  0.008\n",
       " 55     우즈베키스탄 UZS     0.11      NaN      NaN      NaN      NaN  0.000\n",
       " 56       캄보디아 KHR     0.36      NaN      NaN      NaN      NaN  0.000\n",
       " 57         피지 FJD   620.81      NaN      NaN      NaN      NaN  0.427]"
      ]
     },
     "execution_count": 6,
     "metadata": {},
     "output_type": "execute_result"
    }
   ],
   "source": [
    "dfs"
   ]
  },
  {
   "cell_type": "code",
   "execution_count": 14,
   "metadata": {},
   "outputs": [
    {
     "name": "stderr",
     "output_type": "stream",
     "text": [
      "C:\\Users\\B8-07\\AppData\\Local\\Packages\\PythonSoftwareFoundation.Python.3.13_qbz5n2kfra8p0\\LocalCache\\local-packages\\Python313\\site-packages\\bs4\\__init__.py:228: UserWarning: You provided Unicode markup but also provided a value for from_encoding. Your from_encoding will be ignored.\n",
      "  warnings.warn(\"You provided Unicode markup but also provided a value for from_encoding. Your from_encoding will be ignored.\")\n",
      "C:\\Users\\B8-07\\AppData\\Local\\Packages\\PythonSoftwareFoundation.Python.3.13_qbz5n2kfra8p0\\LocalCache\\local-packages\\Python313\\site-packages\\bs4\\__init__.py:228: UserWarning: You provided Unicode markup but also provided a value for from_encoding. Your from_encoding will be ignored.\n",
      "  warnings.warn(\"You provided Unicode markup but also provided a value for from_encoding. Your from_encoding will be ignored.\")\n",
      "C:\\Users\\B8-07\\AppData\\Local\\Packages\\PythonSoftwareFoundation.Python.3.13_qbz5n2kfra8p0\\LocalCache\\local-packages\\Python313\\site-packages\\bs4\\__init__.py:228: UserWarning: You provided Unicode markup but also provided a value for from_encoding. Your from_encoding will be ignored.\n",
      "  warnings.warn(\"You provided Unicode markup but also provided a value for from_encoding. Your from_encoding will be ignored.\")\n"
     ]
    },
    {
     "name": "stdout",
     "output_type": "stream",
     "text": [
      "           날짜   매매기준율  전일대비     사실 때     파실 때   보내실 때   받으실 때\n",
      "0  2025.01.31  1455.3   9.3  1480.76  1429.84  1469.5  1441.1\n",
      "1  2025.01.24  1446.0   9.5  1471.30  1420.70  1460.1  1431.9\n",
      "2  2025.01.23  1436.5   0.5  1461.63  1411.37  1450.5  1422.5\n",
      "3  2025.01.22  1437.0   0.5  1462.14  1411.86  1451.0  1423.0\n",
      "4  2025.01.21  1436.5   4.5  1461.63  1411.37  1450.5  1422.5\n",
      "5  2025.01.20  1441.0  18.5  1466.21  1415.79  1455.1  1426.9\n",
      "6  2025.01.17  1459.5   2.0  1485.04  1433.96  1473.8  1445.2\n",
      "7  2025.01.16  1457.5   1.5  1483.00  1432.00  1471.7  1443.3\n",
      "8  2025.01.15  1456.0   5.0  1481.48  1430.52  1470.2  1441.8\n",
      "9  2025.01.14  1461.0   7.0  1486.56  1435.44  1475.3  1446.7\n",
      "0  2025.01.13  1468.0   6.8  1493.69  1442.31  1482.3  1453.7\n",
      "1  2025.01.10  1474.8  14.1  1500.60  1449.00  1489.2  1460.4\n",
      "2  2025.01.09  1460.7   0.3  1486.26  1435.14  1475.0  1446.4\n",
      "3  2025.01.08  1461.0   6.5  1486.56  1435.44  1475.3  1446.7\n",
      "4  2025.01.07  1454.5   8.4  1479.95  1429.05  1468.7  1440.3\n",
      "5  2025.01.06  1462.9   8.1  1488.50  1437.30  1477.2  1448.6\n",
      "6  2025.01.03  1471.0   0.5  1496.74  1445.26  1485.4  1456.6\n",
      "7  2025.01.02  1471.5   5.5  1497.25  1445.75  1485.9  1457.1\n",
      "8  2024.12.31  1477.0   5.2  1502.84  1451.16  1491.4  1462.6\n",
      "9  2024.12.30  1471.8   4.2  1497.55  1446.05  1486.2  1457.4\n",
      "0  2024.12.27  1476.0   6.8  1501.83  1450.17  1490.4  1461.6\n",
      "1  2024.12.26  1469.2  10.0  1494.91  1443.49  1483.5  1454.9\n",
      "2  2024.12.24  1459.2   6.6  1484.73  1433.67  1473.5  1444.9\n",
      "3  2024.12.23  1452.6   3.1  1478.02  1427.18  1466.8  1438.4\n",
      "4  2024.12.20  1449.5   1.5  1474.86  1424.14  1463.7  1435.3\n",
      "5  2024.12.19  1448.0   3.7  1473.34  1422.66  1462.1  1433.9\n",
      "6  2024.12.18  1451.7  13.5  1477.10  1426.30  1465.9  1437.5\n",
      "7  2024.12.17  1438.2   0.3  1463.36  1413.04  1452.2  1424.2\n",
      "8  2024.12.16  1438.5   2.3  1463.67  1413.33  1452.5  1424.5\n",
      "9  2024.12.13  1436.2   4.4  1461.33  1411.07  1450.2  1422.2\n",
      "0  2024.12.12  1431.8   1.3  1456.85  1406.75  1445.8  1417.8\n",
      "1  2024.12.11  1430.5   5.0  1455.53  1405.47  1444.5  1416.5\n",
      "2  2024.12.10  1435.5   3.5  1460.62  1410.38  1449.5  1421.5\n",
      "3  2024.12.09  1432.0   8.0  1457.06  1406.94  1446.0  1418.0\n",
      "4  2024.12.06  1424.0   7.5  1448.92  1399.08  1437.9  1410.1\n",
      "5  2024.12.05  1416.5   3.0  1441.28  1391.72  1430.3  1402.7\n",
      "6  2024.12.04  1413.5   4.0  1438.23  1388.77  1427.3  1399.7\n",
      "7  2024.12.03  1417.5  11.0  1442.30  1392.70  1431.3  1403.7\n",
      "8  2024.12.02  1406.5  10.0  1431.11  1381.89  1420.2  1392.8\n",
      "9  2024.11.29  1396.5   0.0  1420.93  1372.07  1410.1  1382.9\n"
     ]
    },
    {
     "name": "stderr",
     "output_type": "stream",
     "text": [
      "C:\\Users\\B8-07\\AppData\\Local\\Packages\\PythonSoftwareFoundation.Python.3.13_qbz5n2kfra8p0\\LocalCache\\local-packages\\Python313\\site-packages\\bs4\\__init__.py:228: UserWarning: You provided Unicode markup but also provided a value for from_encoding. Your from_encoding will be ignored.\n",
      "  warnings.warn(\"You provided Unicode markup but also provided a value for from_encoding. Your from_encoding will be ignored.\")\n"
     ]
    }
   ],
   "source": [
    "base_url = 'https://finance.naver.com/marketindex/exchangeDailyQuote.naver?marketindexCd=FX_USDKRW&'\n",
    "\n",
    "df = pd.DataFrame()\n",
    "\n",
    "for page_num in range(1,5):\n",
    "    url = f'{base_url}page={page_num}'\n",
    "    dfs = pd.read_html(url, encoding='cp949', header=1)\n",
    "    df = pd.concat([df,dfs[0]])\n",
    "\n",
    "print(df)"
   ]
  },
  {
   "cell_type": "code",
   "execution_count": null,
   "metadata": {},
   "outputs": [],
   "source": []
  }
 ],
 "metadata": {
  "kernelspec": {
   "display_name": "Python 3",
   "language": "python",
   "name": "python3"
  },
  "language_info": {
   "codemirror_mode": {
    "name": "ipython",
    "version": 3
   },
   "file_extension": ".py",
   "mimetype": "text/x-python",
   "name": "python",
   "nbconvert_exporter": "python",
   "pygments_lexer": "ipython3",
   "version": "3.13.1"
  }
 },
 "nbformat": 4,
 "nbformat_minor": 2
}
