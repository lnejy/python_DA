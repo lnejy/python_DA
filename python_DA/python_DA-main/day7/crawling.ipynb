{
 "cells": [
  {
   "cell_type": "code",
   "execution_count": 13,
   "metadata": {},
   "outputs": [
    {
     "name": "stdout",
     "output_type": "stream",
     "text": [
      "Defaulting to user installation because normal site-packages is not writeable\n",
      "Requirement already satisfied: beautifulsoup4 in c:\\users\\b8-07\\appdata\\local\\packages\\pythonsoftwarefoundation.python.3.13_qbz5n2kfra8p0\\localcache\\local-packages\\python313\\site-packages (4.12.3)\n",
      "Requirement already satisfied: soupsieve>1.2 in c:\\users\\b8-07\\appdata\\local\\packages\\pythonsoftwarefoundation.python.3.13_qbz5n2kfra8p0\\localcache\\local-packages\\python313\\site-packages (from beautifulsoup4) (2.6)\n",
      "Note: you may need to restart the kernel to use updated packages.\n"
     ]
    },
    {
     "name": "stderr",
     "output_type": "stream",
     "text": [
      "\n",
      "[notice] A new release of pip is available: 24.3.1 -> 25.0\n",
      "[notice] To update, run: C:\\Users\\B8-07\\AppData\\Local\\Microsoft\\WindowsApps\\PythonSoftwareFoundation.Python.3.13_qbz5n2kfra8p0\\python.exe -m pip install --upgrade pip\n"
     ]
    }
   ],
   "source": [
    "%pip install beautifulsoup4"
   ]
  },
  {
   "cell_type": "code",
   "execution_count": 14,
   "metadata": {},
   "outputs": [
    {
     "name": "stdout",
     "output_type": "stream",
     "text": [
      "<!DOCTYPE html>\n",
      "\n",
      "<html lang=\"en\">\n",
      "<head>\n",
      "<title>Document</title>\n",
      "</head>\n",
      "<body>\n",
      "<h1> 시장 가서 사야 할 과일 목록</h1>\n",
      "<div>\n",
      "<p class=\"name1\" id=\"fruits1\" title=\"바나나\"> 바나나\n",
      "            <span class=\"price\"> 3000원</span>\n",
      "<span class=\"count\"> 10개</span>\n",
      "<span classs=\"store\"> 바나나 가게</span>\n",
      "<a href=\"http://www.banana.com\"> banana.com</a></p>\n",
      "</div>\n",
      "<div>\n",
      "<p class=\"name2\" id=\"fruits2\" title=\"사과\"> 사과\n",
      "            <span class=\"price\"> 100원</span>\n",
      "<span class=\"count\"> 50개</span>\n",
      "<span classs=\"store\"> 사과 가게</span>\n",
      "<a href=\"http://www.apple.com\"> apple.com</a></p>\n",
      "</div>\n",
      "<div>\n",
      "<p class=\"name3\" id=\"fruits3\" title=\"오렌지\"> 오렌지\n",
      "            <span class=\"price\"> 500원</span>\n",
      "<span class=\"count\"> 20개</span>\n",
      "<span classs=\"store\"> 오렌지 가게</span>\n",
      "<a href=\"http://www.orange.com\"> orange.com</a></p>\n",
      "</div>\n",
      "</body>\n",
      "</html>\n"
     ]
    }
   ],
   "source": [
    "from bs4 import BeautifulSoup\n",
    "\n",
    "webPage = open('sample02.html', 'r', encoding='utf-8')\n",
    "bsObject = BeautifulSoup(webPage, 'html.parser')\n",
    "\n",
    "print(bsObject)"
   ]
  },
  {
   "cell_type": "code",
   "execution_count": 15,
   "metadata": {},
   "outputs": [
    {
     "data": {
      "text/plain": [
       "<p class=\"name1\" id=\"fruits1\" title=\"바나나\"> 바나나\n",
       "            <span class=\"price\"> 3000원</span>\n",
       "<span class=\"count\"> 10개</span>\n",
       "<span classs=\"store\"> 바나나 가게</span>\n",
       "<a href=\"http://www.banana.com\"> banana.com</a></p>"
      ]
     },
     "execution_count": 15,
     "metadata": {},
     "output_type": "execute_result"
    }
   ],
   "source": [
    "tag_div = bsObject.find('div')\n",
    "tag_p = bsObject.find('p')\n",
    "tag_p"
   ]
  },
  {
   "cell_type": "code",
   "execution_count": 16,
   "metadata": {},
   "outputs": [
    {
     "data": {
      "text/plain": [
       "[<p class=\"name1\" id=\"fruits1\" title=\"바나나\"> 바나나\n",
       "             <span class=\"price\"> 3000원</span>\n",
       " <span class=\"count\"> 10개</span>\n",
       " <span classs=\"store\"> 바나나 가게</span>\n",
       " <a href=\"http://www.banana.com\"> banana.com</a></p>,\n",
       " <p class=\"name2\" id=\"fruits2\" title=\"사과\"> 사과\n",
       "             <span class=\"price\"> 100원</span>\n",
       " <span class=\"count\"> 50개</span>\n",
       " <span classs=\"store\"> 사과 가게</span>\n",
       " <a href=\"http://www.apple.com\"> apple.com</a></p>,\n",
       " <p class=\"name3\" id=\"fruits3\" title=\"오렌지\"> 오렌지\n",
       "             <span class=\"price\"> 500원</span>\n",
       " <span class=\"count\"> 20개</span>\n",
       " <span classs=\"store\"> 오렌지 가게</span>\n",
       " <a href=\"http://www.orange.com\"> orange.com</a></p>]"
      ]
     },
     "execution_count": 16,
     "metadata": {},
     "output_type": "execute_result"
    }
   ],
   "source": [
    "tag_p_all = bsObject.find_all('p')\n",
    "tag_p_all"
   ]
  },
  {
   "cell_type": "code",
   "execution_count": 19,
   "metadata": {},
   "outputs": [
    {
     "name": "stdout",
     "output_type": "stream",
     "text": [
      "None\n"
     ]
    }
   ],
   "source": [
    "p_data = bsObject.select('p')\n",
    "print(p_data[1].string)"
   ]
  },
  {
   "cell_type": "code",
   "execution_count": 20,
   "metadata": {},
   "outputs": [
    {
     "name": "stdout",
     "output_type": "stream",
     "text": [
      " 사과\n",
      "             100원\n",
      " 50개\n",
      " 사과 가게\n",
      " apple.com\n"
     ]
    }
   ],
   "source": [
    "print(p_data[1].text)"
   ]
  },
  {
   "cell_type": "code",
   "execution_count": 25,
   "metadata": {},
   "outputs": [
    {
     "name": "stdout",
     "output_type": "stream",
     "text": [
      "바나나\n",
      "3000원\n",
      "\n",
      "10개\n",
      "\n",
      "바나나 가게\n",
      "\n",
      "banana.com\n",
      "사과\n",
      "100원\n",
      "\n",
      "50개\n",
      "\n",
      "사과 가게\n",
      "\n",
      "apple.com\n",
      "오렌지\n",
      "500원\n",
      "\n",
      "20개\n",
      "\n",
      "오렌지 가게\n",
      "\n",
      "orange.com\n"
     ]
    }
   ],
   "source": [
    "for i in p_data:\n",
    "    for j in i:\n",
    "        print(j.string.strip())"
   ]
  },
  {
   "cell_type": "code",
   "execution_count": 28,
   "metadata": {},
   "outputs": [
    {
     "name": "stdout",
     "output_type": "stream",
     "text": [
      "바나나\n",
      "3000원\n",
      "10개\n",
      "바나나\n",
      "가게\n",
      "banana.com\n",
      "사과\n",
      "100원\n",
      "50개\n",
      "사과\n",
      "가게\n",
      "apple.com\n",
      "오렌지\n",
      "500원\n",
      "20개\n",
      "오렌지\n",
      "가게\n",
      "orange.com\n"
     ]
    }
   ],
   "source": [
    "for i in p_data:\n",
    "    k = i.text.split()\n",
    "    # for j in i:\n",
    "    #     print(j.text.strip())\n",
    "    # print(k)\n",
    "\n",
    "    for j in k:\n",
    "        print(j)"
   ]
  },
  {
   "cell_type": "code",
   "execution_count": null,
   "metadata": {},
   "outputs": [],
   "source": []
  }
 ],
 "metadata": {
  "kernelspec": {
   "display_name": "Python 3",
   "language": "python",
   "name": "python3"
  },
  "language_info": {
   "codemirror_mode": {
    "name": "ipython",
    "version": 3
   },
   "file_extension": ".py",
   "mimetype": "text/x-python",
   "name": "python",
   "nbconvert_exporter": "python",
   "pygments_lexer": "ipython3",
   "version": "3.13.1"
  }
 },
 "nbformat": 4,
 "nbformat_minor": 2
}
