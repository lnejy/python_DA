{
 "cells": [
  {
   "cell_type": "code",
   "execution_count": 1,
   "metadata": {},
   "outputs": [],
   "source": [
    "import pandas as pd\n"
   ]
  },
  {
   "cell_type": "code",
   "execution_count": 8,
   "metadata": {},
   "outputs": [
    {
     "name": "stdout",
     "output_type": "stream",
     "text": [
      "Defaulting to user installation because normal site-packages is not writeableNote: you may need to restart the kernel to use updated packages.\n",
      "\n",
      "Requirement already satisfied: openpyxl in c:\\users\\b8-07\\appdata\\local\\packages\\pythonsoftwarefoundation.python.3.13_qbz5n2kfra8p0\\localcache\\local-packages\\python313\\site-packages (3.1.5)\n",
      "Requirement already satisfied: et-xmlfile in c:\\users\\b8-07\\appdata\\local\\packages\\pythonsoftwarefoundation.python.3.13_qbz5n2kfra8p0\\localcache\\local-packages\\python313\\site-packages (from openpyxl) (2.0.0)\n"
     ]
    },
    {
     "name": "stderr",
     "output_type": "stream",
     "text": [
      "\n",
      "[notice] A new release of pip is available: 24.3.1 -> 25.0\n",
      "[notice] To update, run: C:\\Users\\B8-07\\AppData\\Local\\Microsoft\\WindowsApps\\PythonSoftwareFoundation.Python.3.13_qbz5n2kfra8p0\\python.exe -m pip install --upgrade pip\n"
     ]
    }
   ],
   "source": [
    "%pip install openpyxl"
   ]
  },
  {
   "cell_type": "code",
   "execution_count": 18,
   "metadata": {},
   "outputs": [],
   "source": [
    "happy_health = pd.read_excel('day6_data\\대한민국행복지도_건강.xlsx', engine='openpyxl')\n",
    "happy_economy = pd.read_excel('day6_data\\대한민국행복지도_경제.xlsx', engine='openpyxl')\n",
    "happy_relationship = pd.read_excel('day6_data\\대한민국행복지도_관계및사회참여.xlsx', engine='openpyxl')\n",
    "happy_education = pd.read_excel('day6_data\\대한민국행복지도_교육.xlsx', engine='openpyxl')\n",
    "happy_life = pd.read_excel('day6_data\\대한민국행복지도_삶의만족도.xlsx', engine='openpyxl')\n",
    "happy_safty = pd.read_excel('day6_data\\대한민국행복지도_안전.xlsx', engine='openpyxl')\n",
    "happy_leisure = pd.read_excel('day6_data\\대한민국행복지도_여가.xlsx', engine='openpyxl')\n",
    "happy_environment = pd.read_excel('day6_data\\대한민국행복지도_환경.xlsx', engine='openpyxl')\n"
   ]
  },
  {
   "cell_type": "code",
   "execution_count": 23,
   "metadata": {},
   "outputs": [],
   "source": [
    "happy_merge = happy_life.groupby('시도')[['삶의 만족도']].mean()"
   ]
  },
  {
   "cell_type": "code",
   "execution_count": 29,
   "metadata": {},
   "outputs": [],
   "source": [
    "import os\n",
    "\n",
    "# data open\n",
    "path = 'day6_data'\n",
    "file_list= os.listdir(path)"
   ]
  },
  {
   "cell_type": "code",
   "execution_count": null,
   "metadata": {},
   "outputs": [],
   "source": [
    "keywords = {'건강':'happy_health', '경제':'happy_economy', '관계및사회참여':'happy_relationship', \n",
    "           '교육':'happy_education', '삶의만족도':'happy_life', '안전':'happy_safty', \n",
    "           '여가':'happy_leisure', '환경':'happy_environment'}\n",
    "\n",
    "for i in file_list:\n",
    "    if i.endswith('.xlsx'):\n",
    "        for x,y in keywords.item():\n",
    "            if x in i:\n",
    "                keywords[x] = pd.read_excel(path+1, engine='openpyxl')"
   ]
  },
  {
   "cell_type": "code",
   "execution_count": 27,
   "metadata": {},
   "outputs": [
    {
     "data": {
      "text/html": [
       "<div>\n",
       "<style scoped>\n",
       "    .dataframe tbody tr th:only-of-type {\n",
       "        vertical-align: middle;\n",
       "    }\n",
       "\n",
       "    .dataframe tbody tr th {\n",
       "        vertical-align: top;\n",
       "    }\n",
       "\n",
       "    .dataframe thead th {\n",
       "        text-align: right;\n",
       "    }\n",
       "</style>\n",
       "<table border=\"1\" class=\"dataframe\">\n",
       "  <thead>\n",
       "    <tr style=\"text-align: right;\">\n",
       "      <th></th>\n",
       "      <th>삶의 만족도</th>\n",
       "      <th>건강_x</th>\n",
       "      <th>건강_y</th>\n",
       "    </tr>\n",
       "    <tr>\n",
       "      <th>시도</th>\n",
       "      <th></th>\n",
       "      <th></th>\n",
       "      <th></th>\n",
       "    </tr>\n",
       "  </thead>\n",
       "  <tbody>\n",
       "    <tr>\n",
       "      <th>강원도</th>\n",
       "      <td>0.619506</td>\n",
       "      <td>0.329506</td>\n",
       "      <td>0.329506</td>\n",
       "    </tr>\n",
       "    <tr>\n",
       "      <th>경기도</th>\n",
       "      <td>0.426023</td>\n",
       "      <td>0.353952</td>\n",
       "      <td>0.353952</td>\n",
       "    </tr>\n",
       "    <tr>\n",
       "      <th>경상남도</th>\n",
       "      <td>0.530794</td>\n",
       "      <td>0.312722</td>\n",
       "      <td>0.312722</td>\n",
       "    </tr>\n",
       "    <tr>\n",
       "      <th>경상북도</th>\n",
       "      <td>0.502223</td>\n",
       "      <td>0.264114</td>\n",
       "      <td>0.264114</td>\n",
       "    </tr>\n",
       "    <tr>\n",
       "      <th>광주광역시</th>\n",
       "      <td>0.484480</td>\n",
       "      <td>0.632300</td>\n",
       "      <td>0.632300</td>\n",
       "    </tr>\n",
       "    <tr>\n",
       "      <th>대구광역시</th>\n",
       "      <td>0.363988</td>\n",
       "      <td>0.482325</td>\n",
       "      <td>0.482325</td>\n",
       "    </tr>\n",
       "    <tr>\n",
       "      <th>대전광역시</th>\n",
       "      <td>0.407580</td>\n",
       "      <td>0.663580</td>\n",
       "      <td>0.663580</td>\n",
       "    </tr>\n",
       "    <tr>\n",
       "      <th>부산광역시</th>\n",
       "      <td>0.362081</td>\n",
       "      <td>0.511906</td>\n",
       "      <td>0.511906</td>\n",
       "    </tr>\n",
       "    <tr>\n",
       "      <th>서울특별시</th>\n",
       "      <td>0.490972</td>\n",
       "      <td>0.569532</td>\n",
       "      <td>0.569532</td>\n",
       "    </tr>\n",
       "    <tr>\n",
       "      <th>세종특별자치시</th>\n",
       "      <td>0.907700</td>\n",
       "      <td>0.232000</td>\n",
       "      <td>0.232000</td>\n",
       "    </tr>\n",
       "    <tr>\n",
       "      <th>울산광역시</th>\n",
       "      <td>0.471980</td>\n",
       "      <td>0.420040</td>\n",
       "      <td>0.420040</td>\n",
       "    </tr>\n",
       "    <tr>\n",
       "      <th>인천광역시</th>\n",
       "      <td>0.411480</td>\n",
       "      <td>0.339620</td>\n",
       "      <td>0.339620</td>\n",
       "    </tr>\n",
       "    <tr>\n",
       "      <th>전라남도</th>\n",
       "      <td>0.547709</td>\n",
       "      <td>0.424732</td>\n",
       "      <td>0.424732</td>\n",
       "    </tr>\n",
       "    <tr>\n",
       "      <th>전라북도</th>\n",
       "      <td>0.608193</td>\n",
       "      <td>0.421300</td>\n",
       "      <td>0.421300</td>\n",
       "    </tr>\n",
       "    <tr>\n",
       "      <th>제주특별자치도</th>\n",
       "      <td>0.711300</td>\n",
       "      <td>0.253700</td>\n",
       "      <td>0.253700</td>\n",
       "    </tr>\n",
       "    <tr>\n",
       "      <th>충청남도</th>\n",
       "      <td>0.553100</td>\n",
       "      <td>0.347433</td>\n",
       "      <td>0.347433</td>\n",
       "    </tr>\n",
       "    <tr>\n",
       "      <th>충청북도</th>\n",
       "      <td>0.410100</td>\n",
       "      <td>0.401064</td>\n",
       "      <td>0.401064</td>\n",
       "    </tr>\n",
       "  </tbody>\n",
       "</table>\n",
       "</div>"
      ],
      "text/plain": [
       "           삶의 만족도      건강_x      건강_y\n",
       "시도                                   \n",
       "강원도      0.619506  0.329506  0.329506\n",
       "경기도      0.426023  0.353952  0.353952\n",
       "경상남도     0.530794  0.312722  0.312722\n",
       "경상북도     0.502223  0.264114  0.264114\n",
       "광주광역시    0.484480  0.632300  0.632300\n",
       "대구광역시    0.363988  0.482325  0.482325\n",
       "대전광역시    0.407580  0.663580  0.663580\n",
       "부산광역시    0.362081  0.511906  0.511906\n",
       "서울특별시    0.490972  0.569532  0.569532\n",
       "세종특별자치시  0.907700  0.232000  0.232000\n",
       "울산광역시    0.471980  0.420040  0.420040\n",
       "인천광역시    0.411480  0.339620  0.339620\n",
       "전라남도     0.547709  0.424732  0.424732\n",
       "전라북도     0.608193  0.421300  0.421300\n",
       "제주특별자치도  0.711300  0.253700  0.253700\n",
       "충청남도     0.553100  0.347433  0.347433\n",
       "충청북도     0.410100  0.401064  0.401064"
      ]
     },
     "execution_count": 27,
     "metadata": {},
     "output_type": "execute_result"
    }
   ],
   "source": [
    "tmp = happy_health.groupby('시도')[['평균']].mean()\n",
    "       \n",
    "happy_merge = pd.merge(happy_merge, tmp.rename(columns={'평균':'건강'}), on='시도')\n",
    "happy_merge"
   ]
  },
  {
   "cell_type": "code",
   "execution_count": null,
   "metadata": {},
   "outputs": [],
   "source": []
  }
 ],
 "metadata": {
  "kernelspec": {
   "display_name": "Python 3",
   "language": "python",
   "name": "python3"
  },
  "language_info": {
   "codemirror_mode": {
    "name": "ipython",
    "version": 3
   },
   "file_extension": ".py",
   "mimetype": "text/x-python",
   "name": "python",
   "nbconvert_exporter": "python",
   "pygments_lexer": "ipython3",
   "version": "3.13.1"
  }
 },
 "nbformat": 4,
 "nbformat_minor": 2
}
